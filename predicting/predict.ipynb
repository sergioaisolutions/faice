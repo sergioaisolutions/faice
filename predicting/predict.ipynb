{
 "cells": [
  {
   "cell_type": "markdown",
   "source": [
    "## IMPORTING THE REQUIRED LIBRARIES"
   ],
   "metadata": {}
  },
  {
   "cell_type": "code",
   "execution_count": 1,
   "source": [
    "import os\r\n",
    "import numpy as np\r\n",
    "from PIL import Image\r\n",
    "import pandas as pd\r\n",
    "from tensorflow.keras.models import load_model"
   ],
   "outputs": [],
   "metadata": {}
  },
  {
   "cell_type": "markdown",
   "source": [
    "## PUTTING THE PIXELS OF EVERY PHOTO IN A DATAFRAME"
   ],
   "metadata": {}
  },
  {
   "cell_type": "code",
   "execution_count": 2,
   "source": [
    "def importImages(path):\r\n",
    "\r\n",
    "    images = os.listdir(path)\r\n",
    "\r\n",
    "    data = list()\r\n",
    "\r\n",
    "    for image in images:\r\n",
    "\r\n",
    "        row = list()\r\n",
    "\r\n",
    "        start = image.find('') + len('')\r\n",
    "        end = image.find('.jpg')\r\n",
    "        name = image[start:end]\r\n",
    "        row.append(str(name))\r\n",
    "\r\n",
    "        imageObject = Image.open(f'{path}/{image}')\r\n",
    "        imageResized = imageObject.resize((48, 48))\r\n",
    "        imageArray = np.asarray(imageResized)\r\n",
    "\r\n",
    "        pixelsRows = list()\r\n",
    "\r\n",
    "        for pixelsRow in imageArray:\r\n",
    "            for pixel in pixelsRow:\r\n",
    "                pixelsRows.append(pixel[0])\r\n",
    "    \r\n",
    "        row.append(pixelsRows)\r\n",
    "\r\n",
    "        data.append(row)\r\n",
    "        \r\n",
    "    return pd.DataFrame(data = data, columns = ['name', 'pixels'])\r\n",
    "\r\n",
    "images = importImages('facesImages')"
   ],
   "outputs": [],
   "metadata": {}
  },
  {
   "cell_type": "markdown",
   "source": [
    "## PREPARING THE PIXELS COLUMN FOR THE AGE NEURAL NETWORK"
   ],
   "metadata": {}
  },
  {
   "cell_type": "code",
   "execution_count": 3,
   "source": [
    "def formatPixelsAge(pixels: str) -> np.array:\r\n",
    "    return np.asarray(pixels, dtype = np.uint8).reshape(48, 48)\r\n",
    "\r\n",
    "pixelsAge = images['pixels'].apply(formatPixelsAge)\r\n",
    "pixelsAge = np.reshape(pixelsAge.to_list(), (len(pixelsAge), 48, 48, 1)) / 255.0"
   ],
   "outputs": [],
   "metadata": {}
  },
  {
   "cell_type": "markdown",
   "source": [
    "## IMPORTING THE CLASSIFIER AND PREDICTING THE AGE OF THE FACES"
   ],
   "metadata": {}
  },
  {
   "cell_type": "code",
   "execution_count": 4,
   "source": [
    "ageClassifier = load_model('../models/age.h5')\r\n",
    "agePredictions = ageClassifier.predict(pixelsAge)"
   ],
   "outputs": [],
   "metadata": {}
  },
  {
   "cell_type": "markdown",
   "source": [
    "## PREPARING THE PIXELS COLUMN FOR THE GENDER NEURAL NETWORK"
   ],
   "metadata": {}
  },
  {
   "cell_type": "code",
   "execution_count": 5,
   "source": [
    "def formatPixelsGender(pixels: str) -> np.array:\r\n",
    "\r\n",
    "    pixelsArrayReshaped = np.asarray(pixels, dtype = np.uint8).reshape(48, 48)\r\n",
    "    pixelsNormalized = pixelsArrayReshaped / 255.0\r\n",
    "\r\n",
    "    return pixelsNormalized\r\n",
    "\r\n",
    "pixelsGender = images['pixels'].apply(formatPixelsGender)\r\n",
    "pixelsGender = np.reshape(pixelsGender.to_list(), (len(pixelsGender), 48, 48, 1)) / 255.0"
   ],
   "outputs": [],
   "metadata": {}
  },
  {
   "cell_type": "markdown",
   "source": [
    "## IMPORTING THE CLASSIFIER AND PREDICTING THE GENDER OF THE FACES"
   ],
   "metadata": {}
  },
  {
   "cell_type": "code",
   "execution_count": 6,
   "source": [
    "genderClassifier = load_model('../models/gender.h5')\r\n",
    "genderPredictions = genderClassifier.predict(pixelsGender)"
   ],
   "outputs": [],
   "metadata": {}
  },
  {
   "cell_type": "markdown",
   "source": [
    "## INSERTING ALL THE PREDICTIONS IN THE IMAGES DATAFRAME"
   ],
   "metadata": {}
  },
  {
   "cell_type": "code",
   "execution_count": 13,
   "source": [
    "images['gender'] = [genderPrediction[0] for genderPrediction in genderPredictions]\r\n",
    "images['age'] = [agePrediction[0] for agePrediction in agePredictions]"
   ],
   "outputs": [],
   "metadata": {}
  },
  {
   "cell_type": "markdown",
   "source": [
    "## PRESENTING THE PREDICTIONS"
   ],
   "metadata": {}
  },
  {
   "cell_type": "code",
   "execution_count": 15,
   "source": [
    "images"
   ],
   "outputs": [
    {
     "output_type": "execute_result",
     "data": {
      "text/html": [
       "<div>\n",
       "<style scoped>\n",
       "    .dataframe tbody tr th:only-of-type {\n",
       "        vertical-align: middle;\n",
       "    }\n",
       "\n",
       "    .dataframe tbody tr th {\n",
       "        vertical-align: top;\n",
       "    }\n",
       "\n",
       "    .dataframe thead th {\n",
       "        text-align: right;\n",
       "    }\n",
       "</style>\n",
       "<table border=\"1\" class=\"dataframe\">\n",
       "  <thead>\n",
       "    <tr style=\"text-align: right;\">\n",
       "      <th></th>\n",
       "      <th>name</th>\n",
       "      <th>pixels</th>\n",
       "      <th>gender</th>\n",
       "      <th>age</th>\n",
       "    </tr>\n",
       "  </thead>\n",
       "  <tbody>\n",
       "    <tr>\n",
       "      <th>0</th>\n",
       "      <td>gonzalo</td>\n",
       "      <td>[183, 185, 186, 187, 188, 189, 189, 190, 190, ...</td>\n",
       "      <td>0.457389</td>\n",
       "      <td>28.918571</td>\n",
       "    </tr>\n",
       "    <tr>\n",
       "      <th>1</th>\n",
       "      <td>ines</td>\n",
       "      <td>[209, 208, 206, 203, 197, 160, 150, 191, 193, ...</td>\n",
       "      <td>0.372151</td>\n",
       "      <td>19.638681</td>\n",
       "    </tr>\n",
       "    <tr>\n",
       "      <th>2</th>\n",
       "      <td>jan</td>\n",
       "      <td>[211, 226, 239, 239, 218, 184, 125, 169, 226, ...</td>\n",
       "      <td>0.955243</td>\n",
       "      <td>41.281910</td>\n",
       "    </tr>\n",
       "    <tr>\n",
       "      <th>3</th>\n",
       "      <td>jorien</td>\n",
       "      <td>[151, 97, 96, 102, 104, 104, 106, 109, 108, 13...</td>\n",
       "      <td>0.173031</td>\n",
       "      <td>27.831879</td>\n",
       "    </tr>\n",
       "  </tbody>\n",
       "</table>\n",
       "</div>"
      ],
      "text/plain": [
       "      name                                             pixels    gender  \\\n",
       "0  gonzalo  [183, 185, 186, 187, 188, 189, 189, 190, 190, ...  0.457389   \n",
       "1     ines  [209, 208, 206, 203, 197, 160, 150, 191, 193, ...  0.372151   \n",
       "2      jan  [211, 226, 239, 239, 218, 184, 125, 169, 226, ...  0.955243   \n",
       "3   jorien  [151, 97, 96, 102, 104, 104, 106, 109, 108, 13...  0.173031   \n",
       "\n",
       "         age  \n",
       "0  28.918571  \n",
       "1  19.638681  \n",
       "2  41.281910  \n",
       "3  27.831879  "
      ]
     },
     "metadata": {},
     "execution_count": 15
    }
   ],
   "metadata": {}
  }
 ],
 "metadata": {
  "orig_nbformat": 4,
  "language_info": {
   "name": "python",
   "version": "3.9.7",
   "mimetype": "text/x-python",
   "codemirror_mode": {
    "name": "ipython",
    "version": 3
   },
   "pygments_lexer": "ipython3",
   "nbconvert_exporter": "python",
   "file_extension": ".py"
  },
  "kernelspec": {
   "name": "python3",
   "display_name": "Python 3.9.7 64-bit ('env': venv)"
  },
  "interpreter": {
   "hash": "349ec2ade89aee60c3e53de8965ee4c718834e5923df1877d1daea78ab99660b"
  }
 },
 "nbformat": 4,
 "nbformat_minor": 2
}