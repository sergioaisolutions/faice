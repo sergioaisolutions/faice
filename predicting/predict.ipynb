{
 "cells": [
  {
   "cell_type": "markdown",
   "source": [
    "## IMPORTING THE REQUIRED LIBRARIES"
   ],
   "metadata": {}
  },
  {
   "cell_type": "code",
   "execution_count": 1,
   "source": [
    "import os\r\n",
    "import numpy as np\r\n",
    "from PIL import Image\r\n",
    "import pandas as pd\r\n",
    "from tensorflow.keras.models import load_model"
   ],
   "outputs": [],
   "metadata": {}
  },
  {
   "cell_type": "markdown",
   "source": [
    "## PUTTING THE PIXELS OF EVERY PHOTO IN A DATAFRAME"
   ],
   "metadata": {}
  },
  {
   "cell_type": "code",
   "execution_count": 2,
   "source": [
    "def importImages(path):\r\n",
    "\r\n",
    "    images = os.listdir(path)\r\n",
    "\r\n",
    "    data = list()\r\n",
    "\r\n",
    "    for image in images:\r\n",
    "\r\n",
    "        row = list()\r\n",
    "\r\n",
    "        start = image.find('') + len('')\r\n",
    "        end = image.find('.jpg')\r\n",
    "        name = image[start:end]\r\n",
    "        row.append(str(name))\r\n",
    "\r\n",
    "        imageObject = Image.open(f'{path}/{image}')\r\n",
    "        imageResized = imageObject.resize((48, 48))\r\n",
    "        imageArray = np.asarray(imageResized)\r\n",
    "\r\n",
    "        pixelsRows = list()\r\n",
    "\r\n",
    "        for pixelsRow in imageArray:\r\n",
    "            for pixel in pixelsRow:\r\n",
    "                pixelsRows.append(pixel[0])\r\n",
    "    \r\n",
    "        row.append(pixelsRows)\r\n",
    "\r\n",
    "        data.append(row)\r\n",
    "        \r\n",
    "    return pd.DataFrame(data = data, columns = ['name', 'pixels'])\r\n",
    "\r\n",
    "images = importImages('facesImages')"
   ],
   "outputs": [],
   "metadata": {}
  },
  {
   "cell_type": "markdown",
   "source": [
    "## PREPARING THE PIXELS COLUMN FOR THE AGE NEURAL NETWORK"
   ],
   "metadata": {}
  },
  {
   "cell_type": "code",
   "execution_count": 3,
   "source": [
    "def formatPixelsAge(pixels: str) -> np.array:\r\n",
    "    return np.asarray(pixels, dtype = np.uint8).reshape(48, 48)\r\n",
    "\r\n",
    "pixelsAge = images['pixels'].apply(formatPixelsAge)\r\n",
    "pixelsAge = np.reshape(pixelsAge.to_list(), (len(pixelsAge), 48, 48, 1)) / 255.0"
   ],
   "outputs": [],
   "metadata": {}
  },
  {
   "cell_type": "markdown",
   "source": [
    "## IMPORTING THE CLASSIFIER AND PREDICTING THE AGE OF THE FACES"
   ],
   "metadata": {}
  },
  {
   "cell_type": "code",
   "execution_count": 4,
   "source": [
    "ageClassifier = load_model('../models/ageFull.h5')\r\n",
    "agePredictions = ageClassifier.predict(pixelsAge)"
   ],
   "outputs": [],
   "metadata": {}
  },
  {
   "cell_type": "markdown",
   "source": [
    "## PREPARING THE PIXELS COLUMN FOR THE GENDER NEURAL NETWORK"
   ],
   "metadata": {}
  },
  {
   "cell_type": "code",
   "execution_count": 5,
   "source": [
    "def formatPixelsGender(pixels: str) -> np.array:\r\n",
    "\r\n",
    "    pixelsArrayReshaped = np.asarray(pixels, dtype = np.uint8).reshape(48, 48)\r\n",
    "    pixelsNormalized = pixelsArrayReshaped / 255.0\r\n",
    "\r\n",
    "    return pixelsNormalized\r\n",
    "\r\n",
    "pixelsGender = images['pixels'].apply(formatPixelsGender)\r\n",
    "pixelsGender = np.reshape(pixelsGender.to_list(), (len(pixelsGender), 48, 48, 1)) / 255.0"
   ],
   "outputs": [],
   "metadata": {}
  },
  {
   "cell_type": "markdown",
   "source": [
    "## IMPORTING THE CLASSIFIER AND PREDICTING THE GENDER OF THE FACES"
   ],
   "metadata": {}
  },
  {
   "cell_type": "code",
   "execution_count": 6,
   "source": [
    "genderClassifier = load_model('../models/genderFull.h5')\r\n",
    "genderPredictions = genderClassifier.predict(pixelsGender)"
   ],
   "outputs": [],
   "metadata": {}
  },
  {
   "cell_type": "markdown",
   "source": [
    "## INSERTING ALL THE PREDICTIONS IN THE IMAGES DATAFRAME"
   ],
   "metadata": {}
  },
  {
   "cell_type": "code",
   "execution_count": 7,
   "source": [
    "images['gender'] = [genderPrediction[0] for genderPrediction in genderPredictions]\r\n",
    "images['age'] = [agePrediction[0] for agePrediction in agePredictions]"
   ],
   "outputs": [],
   "metadata": {}
  },
  {
   "cell_type": "markdown",
   "source": [
    "## PRESENTING THE PREDICTIONS"
   ],
   "metadata": {}
  },
  {
   "cell_type": "code",
   "execution_count": 8,
   "source": [
    "images"
   ],
   "outputs": [
    {
     "output_type": "execute_result",
     "data": {
      "text/html": [
       "<div>\n",
       "<style scoped>\n",
       "    .dataframe tbody tr th:only-of-type {\n",
       "        vertical-align: middle;\n",
       "    }\n",
       "\n",
       "    .dataframe tbody tr th {\n",
       "        vertical-align: top;\n",
       "    }\n",
       "\n",
       "    .dataframe thead th {\n",
       "        text-align: right;\n",
       "    }\n",
       "</style>\n",
       "<table border=\"1\" class=\"dataframe\">\n",
       "  <thead>\n",
       "    <tr style=\"text-align: right;\">\n",
       "      <th></th>\n",
       "      <th>name</th>\n",
       "      <th>pixels</th>\n",
       "      <th>gender</th>\n",
       "      <th>age</th>\n",
       "    </tr>\n",
       "  </thead>\n",
       "  <tbody>\n",
       "    <tr>\n",
       "      <th>0</th>\n",
       "      <td>erin</td>\n",
       "      <td>[148, 149, 152, 152, 153, 154, 155, 156, 160, ...</td>\n",
       "      <td>0.314776</td>\n",
       "      <td>5.916344</td>\n",
       "    </tr>\n",
       "    <tr>\n",
       "      <th>1</th>\n",
       "      <td>frederico</td>\n",
       "      <td>[182, 182, 180, 179, 175, 171, 163, 154, 142, ...</td>\n",
       "      <td>0.790406</td>\n",
       "      <td>0.000000</td>\n",
       "    </tr>\n",
       "    <tr>\n",
       "      <th>2</th>\n",
       "      <td>gonzalo</td>\n",
       "      <td>[224, 224, 226, 227, 225, 225, 227, 227, 226, ...</td>\n",
       "      <td>0.996409</td>\n",
       "      <td>39.385677</td>\n",
       "    </tr>\n",
       "    <tr>\n",
       "      <th>3</th>\n",
       "      <td>hamza</td>\n",
       "      <td>[183, 183, 180, 178, 173, 171, 170, 173, 175, ...</td>\n",
       "      <td>0.906473</td>\n",
       "      <td>19.491829</td>\n",
       "    </tr>\n",
       "    <tr>\n",
       "      <th>4</th>\n",
       "      <td>ines</td>\n",
       "      <td>[204, 203, 202, 200, 199, 194, 181, 134, 162, ...</td>\n",
       "      <td>0.290397</td>\n",
       "      <td>43.105206</td>\n",
       "    </tr>\n",
       "    <tr>\n",
       "      <th>5</th>\n",
       "      <td>ishmael</td>\n",
       "      <td>[218, 218, 218, 218, 217, 217, 217, 216, 216, ...</td>\n",
       "      <td>0.037600</td>\n",
       "      <td>14.236519</td>\n",
       "    </tr>\n",
       "    <tr>\n",
       "      <th>6</th>\n",
       "      <td>jan</td>\n",
       "      <td>[217, 227, 222, 229, 216, 173, 124, 169, 230, ...</td>\n",
       "      <td>0.994866</td>\n",
       "      <td>33.905205</td>\n",
       "    </tr>\n",
       "    <tr>\n",
       "      <th>7</th>\n",
       "      <td>jorien</td>\n",
       "      <td>[151, 97, 96, 102, 104, 104, 106, 109, 108, 13...</td>\n",
       "      <td>0.076819</td>\n",
       "      <td>12.977506</td>\n",
       "    </tr>\n",
       "  </tbody>\n",
       "</table>\n",
       "</div>"
      ],
      "text/plain": [
       "        name                                             pixels    gender  \\\n",
       "0       erin  [148, 149, 152, 152, 153, 154, 155, 156, 160, ...  0.314776   \n",
       "1  frederico  [182, 182, 180, 179, 175, 171, 163, 154, 142, ...  0.790406   \n",
       "2    gonzalo  [224, 224, 226, 227, 225, 225, 227, 227, 226, ...  0.996409   \n",
       "3      hamza  [183, 183, 180, 178, 173, 171, 170, 173, 175, ...  0.906473   \n",
       "4       ines  [204, 203, 202, 200, 199, 194, 181, 134, 162, ...  0.290397   \n",
       "5    ishmael  [218, 218, 218, 218, 217, 217, 217, 216, 216, ...  0.037600   \n",
       "6        jan  [217, 227, 222, 229, 216, 173, 124, 169, 230, ...  0.994866   \n",
       "7     jorien  [151, 97, 96, 102, 104, 104, 106, 109, 108, 13...  0.076819   \n",
       "\n",
       "         age  \n",
       "0   5.916344  \n",
       "1   0.000000  \n",
       "2  39.385677  \n",
       "3  19.491829  \n",
       "4  43.105206  \n",
       "5  14.236519  \n",
       "6  33.905205  \n",
       "7  12.977506  "
      ]
     },
     "metadata": {},
     "execution_count": 8
    }
   ],
   "metadata": {}
  },
  {
   "cell_type": "markdown",
   "source": [],
   "metadata": {}
  },
  {
   "cell_type": "code",
   "execution_count": 9,
   "source": [
    "gender = [0, 1, 1, 1, 0, 1, 1, 0]\r\n",
    "age = [50, 28, 23, 28, 22, 32, 59, 24]\r\n",
    "\r\n",
    "from sklearn.metrics import accuracy_score, r2_score\r\n",
    "\r\n",
    "print(f'GENDER ACCURACY: {accuracy_score(gender, round(images[\"gender\"], 0))}')\r\n",
    "print(f'AGE ACCURACY: {r2_score(age, images[\"age\"])}')"
   ],
   "outputs": [
    {
     "output_type": "stream",
     "name": "stdout",
     "text": [
      "GENDER ACCURACY: 0.875\n",
      "AGE ACCURACY: -2.4766324098963755\n"
     ]
    }
   ],
   "metadata": {}
  }
 ],
 "metadata": {
  "orig_nbformat": 4,
  "language_info": {
   "name": "python",
   "version": "3.9.7",
   "mimetype": "text/x-python",
   "codemirror_mode": {
    "name": "ipython",
    "version": 3
   },
   "pygments_lexer": "ipython3",
   "nbconvert_exporter": "python",
   "file_extension": ".py"
  },
  "kernelspec": {
   "name": "python3",
   "display_name": "Python 3.9.7 64-bit ('env': venv)"
  },
  "interpreter": {
   "hash": "349ec2ade89aee60c3e53de8965ee4c718834e5923df1877d1daea78ab99660b"
  }
 },
 "nbformat": 4,
 "nbformat_minor": 2
}