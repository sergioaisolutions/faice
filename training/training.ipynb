{
 "cells": [
  {
   "cell_type": "markdown",
   "source": [
    "## IMPORTING THE REQUIRED LIBRARIES"
   ],
   "metadata": {}
  },
  {
   "cell_type": "code",
   "execution_count": 1,
   "source": [
    "import numpy as np\r\n",
    "import pandas as pd\r\n",
    "from tensorflow.keras.utils import to_categorical\r\n",
    "from sklearn.preprocessing import LabelEncoder"
   ],
   "outputs": [],
   "metadata": {}
  },
  {
   "cell_type": "markdown",
   "source": [
    "## IMPORTING DATA"
   ],
   "metadata": {}
  },
  {
   "cell_type": "code",
   "execution_count": 2,
   "source": [
    "def importData(path: str) -> pd.DataFrame:\r\n",
    "    return pd.read_csv(path)\r\n",
    "\r\n",
    "faces = importData('../preprocessing/data/facesDataClean.csv')"
   ],
   "outputs": [],
   "metadata": {}
  },
  {
   "cell_type": "markdown",
   "source": [
    "## LABEL ENCODING AGE AND THE GENDER COLUMNS"
   ],
   "metadata": {}
  },
  {
   "cell_type": "code",
   "execution_count": 3,
   "source": [
    "def encodingTarget(dataframe: pd.DataFrame, target: str) -> (pd.DataFrame, LabelEncoder):\r\n",
    "    \r\n",
    "    encoder = LabelEncoder().fit(dataframe[target])\r\n",
    "    dataframe[target] = encoder.transform(dataframe[target])\r\n",
    "\r\n",
    "    return dataframe, encoder\r\n",
    "\r\n",
    "faces, ageEncoder = encodingTarget(faces, 'age_bin')\r\n",
    "faces, genderEncoder = encodingTarget(faces, 'gender')"
   ],
   "outputs": [],
   "metadata": {}
  },
  {
   "cell_type": "markdown",
   "source": [
    "## PREPARING THE GENDER AND AGE COLUMNS FOR NEURAL NETWORKS"
   ],
   "metadata": {}
  },
  {
   "cell_type": "code",
   "execution_count": 4,
   "source": [
    "def prepareTarget(dataframe: pd.DataFrame, target: str) -> np.array:\r\n",
    "\r\n",
    "    targetMatrix = np.array(dataframe[target])\r\n",
    "    classes = len(dataframe[target].value_counts())\r\n",
    "    preparedTarget = to_categorical(targetMatrix, num_classes = classes)\r\n",
    "\r\n",
    "    return preparedTarget\r\n",
    "\r\n",
    "age = prepareTarget(faces, 'age_bin')\r\n",
    "gender = prepareTarget(faces, 'gender')"
   ],
   "outputs": [],
   "metadata": {}
  },
  {
   "cell_type": "markdown",
   "source": [
    "## PREPARING THE PIXELS COLUMNS FOR NEURAL NETWORKS"
   ],
   "metadata": {}
  },
  {
   "cell_type": "code",
   "execution_count": 5,
   "source": [
    "def formatPixels(dataframe: pd.DataFrame, pixels: str) -> np.array:\r\n",
    "\r\n",
    "    seriesPixels = pd.Series(dataframe[pixels])\r\n",
    "\r\n",
    "    formatPixels = seriesPixels.apply(lambda x: x.split(' '))\r\n",
    "    arrayPixels = formatPixels.apply(lambda x: np.array(list(map(lambda z: np.int(z), x))))\r\n",
    "    arrayArrayPixels = np.array(arrayPixels)\r\n",
    "    \r\n",
    "    stackPixels = np.stack(np.array(arrayArrayPixels), axis = 0)\r\n",
    "    reshapedPixels = np.reshape(stackPixels, (-1, 48, 48))\r\n",
    "    pixels = reshapedPixels.reshape(-1,48,48,1)\r\n",
    "\r\n",
    "    return pixels\r\n",
    "\r\n",
    "pixels = formatPixels(faces, 'pixels')"
   ],
   "outputs": [],
   "metadata": {}
  }
 ],
 "metadata": {
  "orig_nbformat": 4,
  "language_info": {
   "name": "python",
   "version": "3.9.7",
   "mimetype": "text/x-python",
   "codemirror_mode": {
    "name": "ipython",
    "version": 3
   },
   "pygments_lexer": "ipython3",
   "nbconvert_exporter": "python",
   "file_extension": ".py"
  },
  "kernelspec": {
   "name": "python3",
   "display_name": "Python 3.9.7 64-bit ('env': venv)"
  },
  "interpreter": {
   "hash": "349ec2ade89aee60c3e53de8965ee4c718834e5923df1877d1daea78ab99660b"
  }
 },
 "nbformat": 4,
 "nbformat_minor": 2
}