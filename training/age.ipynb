{
 "cells": [
  {
   "cell_type": "markdown",
   "source": [
    "## IMPORTING THE REQUIRED LIBRARIES"
   ],
   "metadata": {}
  },
  {
   "cell_type": "code",
   "execution_count": 1,
   "source": [
    "import pandas as pd ; import numpy as np\r\n",
    "from sklearn.model_selection import train_test_split\r\n",
    "from tensorflow.keras.layers import Dense, Conv2D, Flatten, MaxPool2D, BatchNormalization\r\n",
    "from tensorflow.keras.callbacks import EarlyStopping, ReduceLROnPlateau\r\n",
    "from sklearn.metrics import mean_squared_error, mean_absolute_error, r2_score\r\n",
    "from tensorflow.keras.models import Sequential\r\n",
    "from tensorflow.keras import metrics\r\n",
    "import matplotlib.pyplot as plt\r\n",
    "import seaborn as sns\r\n",
    "import mplcyberpunk"
   ],
   "outputs": [],
   "metadata": {}
  },
  {
   "cell_type": "markdown",
   "source": [
    "## DISABLING THE SETTING WITH COPY WARNING"
   ],
   "metadata": {}
  },
  {
   "cell_type": "code",
   "execution_count": 2,
   "source": [
    "pd.options.mode.chained_assignment = None"
   ],
   "outputs": [],
   "metadata": {}
  },
  {
   "cell_type": "markdown",
   "source": [
    "## IMPORTING DATA"
   ],
   "metadata": {}
  },
  {
   "cell_type": "code",
   "execution_count": 3,
   "source": [
    "def importData(path: str) -> pd.DataFrame:\r\n",
    "    return pd.read_csv(path)\r\n",
    "\r\n",
    "faces = importData('../preprocessing/data/facesDataClean.csv')"
   ],
   "outputs": [],
   "metadata": {}
  },
  {
   "cell_type": "markdown",
   "source": [
    "## SPLITTING THE DATAFRAME USING AS A CONDITION IF THE PERSON IS FROM WHITE ETHNICITY OR NOT"
   ],
   "metadata": {}
  },
  {
   "cell_type": "code",
   "execution_count": 4,
   "source": [
    "facesWhite = faces[faces['ethnicity'] == 'White']\r\n",
    "facesNonWhite = faces[faces['ethnicity'] != 'White']"
   ],
   "outputs": [],
   "metadata": {}
  },
  {
   "cell_type": "markdown",
   "source": [
    "## PREPARING THE PIXELS COLUMN FOR THE NEURAL NETWORK IN THE WHITE AND NON WHITE IMAGES"
   ],
   "metadata": {}
  },
  {
   "cell_type": "code",
   "execution_count": 5,
   "source": [
    "def formatPixels(pixels: str) -> np.array:\r\n",
    "\r\n",
    "    pixelsArray = np.array(pixels.split(), 'float64')\r\n",
    "    pixelsArrayReshaped = pixelsArray.reshape(48, 48)\r\n",
    "\r\n",
    "    return pixelsArrayReshaped\r\n",
    "\r\n",
    "facesWhite['pixels'] = facesWhite['pixels'].apply(formatPixels)\r\n",
    "facesNonWhite['pixels'] = facesNonWhite['pixels'].apply(formatPixels)"
   ],
   "outputs": [],
   "metadata": {}
  },
  {
   "cell_type": "markdown",
   "source": [
    "## PERFORMING THE X-Y TRAIN-TEST SPLIT IN THE WHITE IMAGES"
   ],
   "metadata": {}
  },
  {
   "cell_type": "code",
   "execution_count": 6,
   "source": [
    "def split(dataframe, pixels, age):\r\n",
    "\r\n",
    "    X = dataframe[pixels]\r\n",
    "    y = dataframe[age]\r\n",
    "\r\n",
    "    X_train, X_test, y_train, y_test = train_test_split(X, y, test_size = 0.20, random_state = 42)\r\n",
    "\r\n",
    "    return X_train, X_test, y_train, y_test\r\n",
    "\r\n",
    "X_train, X_test, y_train, y_test = split(facesWhite, 'pixels', 'age')\r\n",
    "nonWhiteX, nonWhiteY = facesNonWhite['pixels'], facesNonWhite['age']"
   ],
   "outputs": [],
   "metadata": {}
  },
  {
   "cell_type": "markdown",
   "source": [
    "## PERFORMING THE FINAL RESHAPE IN THE WHITE TRAINING IMAGES, THE WHITE TESTING IMAGES AND THE NON WHITE IMAGES"
   ],
   "metadata": {}
  },
  {
   "cell_type": "code",
   "execution_count": 7,
   "source": [
    "X_train = np.reshape(X_train.to_list(), (len(X_train), 48, 48, 1)) / 255.0\r\n",
    "X_test = np.reshape(X_test.to_list(), (len(X_test), 48, 48, 1)) / 255.0\r\n",
    "nonWhiteX = np.reshape(nonWhiteX.to_list(), (len(nonWhiteX), 48, 48, 1)) / 255.0"
   ],
   "outputs": [],
   "metadata": {}
  },
  {
   "cell_type": "markdown",
   "source": [
    "## DEFINING AND COMPILING THE STRUCTURE OF THE NEURAL NETWORK"
   ],
   "metadata": {}
  },
  {
   "cell_type": "code",
   "execution_count": 8,
   "source": [
    "def neuralNetwork():\r\n",
    "\r\n",
    "    model = Sequential()\r\n",
    "\r\n",
    "    model.add(Conv2D(128, (3, 3), activation = 'relu', input_shape = (48, 48, 1)))\r\n",
    "    model.add(MaxPool2D((2, 2)))\r\n",
    "    model.add(BatchNormalization())\r\n",
    "    model.add(Conv2D(64, (3, 3), activation = 'relu'))\r\n",
    "    model.add(MaxPool2D((2, 2)))\r\n",
    "    model.add(BatchNormalization())\r\n",
    "    model.add(Conv2D(32, (3, 3), activation = 'relu'))\r\n",
    "    model.add(MaxPool2D((2, 2)))\r\n",
    "    model.add(BatchNormalization())\r\n",
    "    model.add(Flatten())\r\n",
    "    model.add(Dense(256, activation = 'relu'))\r\n",
    "    model.add(Dense(64, activation = 'relu'))\r\n",
    "    model.add(Dense(1, activation = 'relu'))\r\n",
    "\r\n",
    "    model.compile(optimizer = 'adam', loss = 'mse', metrics = [metrics.mean_absolute_error])\r\n",
    "\r\n",
    "    return model\r\n",
    "\r\n",
    "ageClassifier = neuralNetwork()"
   ],
   "outputs": [],
   "metadata": {}
  },
  {
   "cell_type": "markdown",
   "source": [
    "## DEFINING THE VALUES FOR THE EARLY STOPPING AND THE LR AIMING TO REDUCE THE OVERFITTING"
   ],
   "metadata": {}
  },
  {
   "cell_type": "code",
   "execution_count": 9,
   "source": [
    "earlyStop = EarlyStopping(monitor = 'val_mean_absolute_error', patience = 2)\r\n",
    "reduceLR = ReduceLROnPlateau(monitor = 'val_mean_absolute_error', patience = 1, min_lr = 0.00001)"
   ],
   "outputs": [],
   "metadata": {}
  },
  {
   "cell_type": "markdown",
   "source": [
    "## TRAINING THE NEURAL NETWORK ONLY IN THE WHITE IMAGES"
   ],
   "metadata": {}
  },
  {
   "cell_type": "code",
   "execution_count": 10,
   "source": [
    "ageClassifierFit = ageClassifier.fit(X_train, y_train, validation_data = (X_test, y_test),\r\n",
    "                                     epochs = 20, callbacks = [reduceLR, earlyStop], verbose = 0)"
   ],
   "outputs": [],
   "metadata": {}
  },
  {
   "cell_type": "markdown",
   "source": [
    "## GENERATING THE PREDICTIONS FOR THE WHITE TRAINING IMAGES, THE WHITE TESTING IMAGES AND THE NON WHITE IMAGES"
   ],
   "metadata": {}
  },
  {
   "cell_type": "code",
   "execution_count": 11,
   "source": [
    "trainPredictionsArray = ageClassifier.predict(X_train)\r\n",
    "testPredictionsArray = ageClassifier.predict(X_test)\r\n",
    "nonWhitePredictionsArray = ageClassifier.predict(nonWhiteX)\r\n",
    "\r\n",
    "trainPredictions = [int(round(trainPrediction[0], 0)) for trainPrediction in trainPredictionsArray]\r\n",
    "testPredictions = [int(round(testPrediction[0], 0)) for testPrediction in testPredictionsArray]\r\n",
    "nonWhitePredictions = [int(round(nonWhitePrediction[0], 0)) for nonWhitePrediction in nonWhitePredictionsArray]"
   ],
   "outputs": [],
   "metadata": {}
  },
  {
   "cell_type": "markdown",
   "source": [
    "## EXTRACTING THE RESULTS OF THE MODEL IN THE WHITE TEST IMAGES AND THE NON WHITE IMAGES"
   ],
   "metadata": {}
  },
  {
   "cell_type": "code",
   "execution_count": 12,
   "source": [
    "def model_metrics(target, predictions, data):\r\n",
    "\r\n",
    "    r2 = r2_score(target, predictions)\r\n",
    "    mse = mean_squared_error(target, predictions)\r\n",
    "    mae = mean_absolute_error(target, predictions)\r\n",
    "\r\n",
    "    return list([data, r2, mse, mae])\r\n",
    "\r\n",
    "whiteNonWhiteImagesResults = list()\r\n",
    "\r\n",
    "whiteNonWhiteImagesResults.append(model_metrics(y_train, trainPredictions, 'White images train'))\r\n",
    "whiteNonWhiteImagesResults.append(model_metrics(y_test, testPredictions, 'White images test'))\r\n",
    "whiteNonWhiteImagesResults.append(model_metrics(nonWhiteY, nonWhitePredictions, 'Non white images'))\r\n",
    "\r\n",
    "imagesResults = pd.DataFrame(data = whiteNonWhiteImagesResults,\r\n",
    "                             columns = ['Data', 'R2 Score', 'MSE', 'MAE'])"
   ],
   "outputs": [],
   "metadata": {}
  },
  {
   "cell_type": "markdown",
   "source": [
    "## EVALUATING THE METRICS IN THE WHITE TEST IMAGES AND THE NON WHITE IMAGES"
   ],
   "metadata": {}
  },
  {
   "cell_type": "code",
   "execution_count": 13,
   "source": [
    "plt.style.use('cyberpunk')\r\n",
    "\r\n",
    "fig, axes = plt.subplots(1, 3, figsize = (25, 8))\r\n",
    "\r\n",
    "sns.barplot(x = 'Data', y = 'R2 Score', data = imagesResults, ax = axes[0])\r\n",
    "sns.barplot(x = 'Data', y = 'MSE', data = imagesResults, ax = axes[1])\r\n",
    "sns.barplot(x = 'Data', y = 'MAE', data = imagesResults, ax = axes[2])\r\n",
    "\r\n",
    "axes[0].set_title('R2 SCORE - WHITE VS NON WHITE IMAGES', fontsize = 14)\r\n",
    "axes[1].set_title('MSE - WHITE VS NON WHITE IMAGES', fontsize = 14)\r\n",
    "axes[2].set_title('MAE SCORE - WHITE VS NON WHITE IMAGES', fontsize = 14)\r\n",
    "\r\n",
    "for patch in axes[0].patches:\r\n",
    "    axes[0].annotate(format(patch.get_height(), '.2f'), (patch.get_x() + patch.get_width() / 2., patch.get_height()), \r\n",
    "                 ha = 'center', va = 'center', xytext = (0, 10), textcoords = 'offset points')\r\n",
    "\r\n",
    "for patch in axes[1].patches:\r\n",
    "    axes[1].annotate(format(patch.get_height(), '.2f'), (patch.get_x() + patch.get_width() / 2., patch.get_height()), \r\n",
    "                 ha = 'center', va = 'center', xytext = (0, 10), textcoords = 'offset points')\r\n",
    "\r\n",
    "for patch in axes[2].patches:\r\n",
    "    axes[2].annotate(format(patch.get_height(), '.2f'), (patch.get_x() + patch.get_width() / 2., patch.get_height()), \r\n",
    "                 ha = 'center', va = 'center', xytext = (0, 10), textcoords = 'offset points')\r\n",
    "\r\n",
    "mplcyberpunk.add_glow_effects()\r\n",
    "\r\n",
    "plt.savefig('plots/age/metricsWhiteNonWhite.jpg', format = 'jpg')"
   ],
   "outputs": [
    {
     "output_type": "display_data",
     "data": {
      "image/png": "[encoded data removed]",
      "text/plain": [
       "<Figure size 1800x576 with 3 Axes>"
      ]
     },
     "metadata": {}
    }
   ],
   "metadata": {}
  },
  {
   "cell_type": "markdown",
   "source": [
    "## EXPORTING THE NEURAL NETWORK USING THE PICKLE LIBRARY"
   ],
   "metadata": {}
  },
  {
   "cell_type": "code",
   "execution_count": 14,
   "source": [
    "ageClassifier.save(\"../models/age.h5\")"
   ],
   "outputs": [],
   "metadata": {}
  }
 ],
 "metadata": {
  "orig_nbformat": 4,
  "language_info": {
   "name": "python",
   "version": "3.9.7",
   "mimetype": "text/x-python",
   "codemirror_mode": {
    "name": "ipython",
    "version": 3
   },
   "pygments_lexer": "ipython3",
   "nbconvert_exporter": "python",
   "file_extension": ".py"
  },
  "kernelspec": {
   "name": "python3",
   "display_name": "Python 3.9.7 64-bit ('env': venv)"
  },
  "interpreter": {
   "hash": "349ec2ade89aee60c3e53de8965ee4c718834e5923df1877d1daea78ab99660b"
  }
 },
 "nbformat": 4,
 "nbformat_minor": 2
}