{
 "cells": [
  {
   "cell_type": "markdown",
   "source": [
    "## IMPORTING THE REQUIRED LIBRARIES"
   ],
   "metadata": {}
  },
  {
   "cell_type": "code",
   "execution_count": 1,
   "source": [
    "import pandas as pd ; import numpy as np\r\n",
    "from sklearn.preprocessing import LabelEncoder\r\n",
    "from sklearn.model_selection import train_test_split\r\n",
    "from tensorflow.keras.layers import Dense, Conv2D, Flatten, MaxPool2D, BatchNormalization\r\n",
    "from sklearn.metrics import confusion_matrix, accuracy_score, precision_score, recall_score, f1_score\r\n",
    "from tensorflow.keras.callbacks import EarlyStopping, ReduceLROnPlateau\r\n",
    "from tensorflow.keras.models import Sequential\r\n",
    "from tensorflow.keras.optimizers import SGD\r\n",
    "import matplotlib.pyplot as plt\r\n",
    "import seaborn as sns\r\n",
    "import mplcyberpunk"
   ],
   "outputs": [],
   "metadata": {}
  },
  {
   "cell_type": "markdown",
   "source": [
    "## DISABLING THE SETTING WITH COPY WARNING"
   ],
   "metadata": {}
  },
  {
   "cell_type": "code",
   "execution_count": 2,
   "source": [
    "pd.options.mode.chained_assignment = None"
   ],
   "outputs": [],
   "metadata": {}
  },
  {
   "cell_type": "markdown",
   "source": [
    "## IMPORTING DATA"
   ],
   "metadata": {}
  },
  {
   "cell_type": "code",
   "execution_count": 3,
   "source": [
    "def importData(path: str) -> pd.DataFrame:\r\n",
    "    return pd.read_csv(path)\r\n",
    "\r\n",
    "faces = importData('../preprocessing/data/facesDataClean.csv')"
   ],
   "outputs": [],
   "metadata": {}
  },
  {
   "cell_type": "markdown",
   "source": [
    "## ENCODING THE GENDER COLUMN INTO ZEROS AND ONES"
   ],
   "metadata": {}
  },
  {
   "cell_type": "code",
   "execution_count": 4,
   "source": [
    "def encodingTarget(dataframe: pd.DataFrame, target: str) -> (pd.DataFrame, LabelEncoder):\r\n",
    "    \r\n",
    "    encoder = LabelEncoder().fit(dataframe[target])\r\n",
    "    dataframe[target] = encoder.transform(dataframe[target])\r\n",
    "\r\n",
    "    return dataframe, encoder\r\n",
    "\r\n",
    "faces, genderEncoder = encodingTarget(faces, 'gender')"
   ],
   "outputs": [],
   "metadata": {}
  },
  {
   "cell_type": "markdown",
   "source": [
    "## SPLITTING THE DATAFRAME USING AS A CONDITION IF THE PERSON IS FROM WHITE ETHNICITY OR NOT"
   ],
   "metadata": {}
  },
  {
   "cell_type": "code",
   "execution_count": 5,
   "source": [
    "facesWhite = faces[faces['ethnicity'] == 'White']\r\n",
    "facesNonWhite = faces[faces['ethnicity'] != 'White']"
   ],
   "outputs": [],
   "metadata": {}
  },
  {
   "cell_type": "markdown",
   "source": [
    "## PREPARING THE PIXELS COLUMN FOR THE NEURAL NETWORK IN THE WHITE AND NON WHITE IMAGES"
   ],
   "metadata": {}
  },
  {
   "cell_type": "code",
   "execution_count": 6,
   "source": [
    "def formatPixels(pixels: str) -> np.array:\r\n",
    "\r\n",
    "    pixelsArray = np.array(pixels.split(), 'float64')\r\n",
    "    pixelsArrayReshaped = np.reshape(pixelsArray, (48, 48))\r\n",
    "    pixelsNormalized = pixelsArrayReshaped / 255.0\r\n",
    "\r\n",
    "    return pixelsNormalized\r\n",
    "\r\n",
    "facesWhite['pixels'] = facesWhite['pixels'].apply(formatPixels)\r\n",
    "facesNonWhite['pixels'] = facesNonWhite['pixels'].apply(formatPixels)"
   ],
   "outputs": [],
   "metadata": {}
  },
  {
   "cell_type": "markdown",
   "source": [
    "## PERFORMING THE X-Y TRAIN-TEST SPLIT IN THE WHITE IMAGES"
   ],
   "metadata": {}
  },
  {
   "cell_type": "code",
   "execution_count": 7,
   "source": [
    "def split(dataframe, pixels, gender):\r\n",
    "\r\n",
    "    X = dataframe[pixels]\r\n",
    "    y = dataframe[gender]\r\n",
    "\r\n",
    "    X_train, X_test, y_train, y_test = train_test_split(X, y, test_size = 0.20, random_state = 42)\r\n",
    "\r\n",
    "    return X_train, X_test, y_train, y_test\r\n",
    "\r\n",
    "X_train, X_test, y_train, y_test = split(facesWhite, 'pixels', 'gender')\r\n",
    "nonWhiteX, nonWhiteY = facesNonWhite['pixels'], facesNonWhite['gender']"
   ],
   "outputs": [],
   "metadata": {}
  },
  {
   "cell_type": "markdown",
   "source": [
    "## PERFORMING THE FINAL RESHAPE IN THE WHITE TRAINING IMAGES, THE WHITE TESTING IMAGES AND THE NON WHITE IMAGES"
   ],
   "metadata": {}
  },
  {
   "cell_type": "code",
   "execution_count": 8,
   "source": [
    "X_train = np.reshape(X_train.to_list(), (len(X_train), 48, 48, 1)) / 255.0\r\n",
    "X_test = np.reshape(X_test.to_list(), (len(X_test), 48, 48, 1)) / 255.0\r\n",
    "nonWhiteX = np.reshape(nonWhiteX.to_list(), (len(nonWhiteX), 48, 48, 1)) / 255.0"
   ],
   "outputs": [],
   "metadata": {}
  },
  {
   "cell_type": "markdown",
   "source": [
    "## DEFINING AND COMPILING THE STRUCTURE OF THE NEURAL NETWORK"
   ],
   "metadata": {}
  },
  {
   "cell_type": "code",
   "execution_count": 9,
   "source": [
    "def neuralNetwork():\r\n",
    "\r\n",
    "    model = Sequential()\r\n",
    "    model.add(Conv2D(256, (3, 3), activation = 'relu', padding = 'same', input_shape = (48, 48, 1)))\r\n",
    "    model.add(MaxPool2D(2, 2))\r\n",
    "    model.add(BatchNormalization())\r\n",
    "    model.add(Conv2D(64, (3, 3), activation = 'relu', padding = 'same'))\r\n",
    "    model.add(MaxPool2D(2, 2))\r\n",
    "    model.add(BatchNormalization())\r\n",
    "    model.add(Conv2D(32, (3, 3), activation = 'relu', padding = 'same'))\r\n",
    "    model.add(MaxPool2D(2, 2))\r\n",
    "    model.add(BatchNormalization())\r\n",
    "    model.add(Flatten())\r\n",
    "    model.add(Dense(512, activation = 'relu'))\r\n",
    "    model.add(Dense(64, activation = 'relu'))\r\n",
    "    model.add(Dense(1, activation = 'sigmoid'))\r\n",
    "\r\n",
    "    model.compile(optimizer = SGD(0.01), loss = 'binary_crossentropy', metrics = ['accuracy'])\r\n",
    "\r\n",
    "    return model\r\n",
    "\r\n",
    "genderClassifier = neuralNetwork()"
   ],
   "outputs": [],
   "metadata": {}
  },
  {
   "cell_type": "markdown",
   "source": [
    "## DEFINING THE VALUES FOR THE EARLY STOPPING AND THE LR AIMING TO REDUCE THE OVERFITTING"
   ],
   "metadata": {}
  },
  {
   "cell_type": "code",
   "execution_count": 10,
   "source": [
    "earlyStop = EarlyStopping(monitor = 'val_accuracy', patience = 3)\r\n",
    "reduceLR = ReduceLROnPlateau(monitor = 'val_accuracy', patience = 1, min_lr = 0.000001)"
   ],
   "outputs": [],
   "metadata": {}
  },
  {
   "cell_type": "markdown",
   "source": [
    "## TRAINING THE NEURAL NETWORK ONLY IN THE WHITE IMAGES"
   ],
   "metadata": {}
  },
  {
   "cell_type": "code",
   "execution_count": 11,
   "source": [
    "genderClassifierFit = genderClassifier.fit(X_train, y_train, validation_data = (X_test, y_test),\r\n",
    "                                           epochs = 20, callbacks = [reduceLR, earlyStop], verbose = 0)"
   ],
   "outputs": [],
   "metadata": {}
  },
  {
   "cell_type": "markdown",
   "source": [
    "## GENERATING THE PREDICTIONS FOR THE WHITE TRAINING IMAGES, THE WHITE TESTING IMAGES AND THE NON WHITE IMAGES"
   ],
   "metadata": {}
  },
  {
   "cell_type": "code",
   "execution_count": 12,
   "source": [
    "trainPredictionsArray = genderClassifier.predict(X_train)\r\n",
    "testPredictionsArray = genderClassifier.predict(X_test)\r\n",
    "nonWhitePredictionsArray = genderClassifier.predict(nonWhiteX)\r\n",
    "\r\n",
    "trainPredictions = [int(round(trainPrediction[0], 0)) for trainPrediction in trainPredictionsArray]\r\n",
    "testPredictions = [int(round(testPrediction[0], 0)) for testPrediction in testPredictionsArray]\r\n",
    "nonWhitePredictions = [int(round(nonWhitePrediction[0], 0)) for nonWhitePrediction in nonWhitePredictionsArray]"
   ],
   "outputs": [],
   "metadata": {}
  },
  {
   "cell_type": "markdown",
   "source": [
    "## CREATING THE CONFUSION MATRIX FOR THE WHITE TRAINING IMAGES, THE WHITE TESTING IMAGES AND THE NON WHITE IMAGES"
   ],
   "metadata": {}
  },
  {
   "cell_type": "code",
   "execution_count": 13,
   "source": [
    "trainMatrix = confusion_matrix(y_train, trainPredictions)\r\n",
    "testMatrix = confusion_matrix(y_test, testPredictions)\r\n",
    "nonWhiteMatrix = confusion_matrix(nonWhiteY, nonWhitePredictions)"
   ],
   "outputs": [],
   "metadata": {}
  },
  {
   "cell_type": "markdown",
   "source": [
    "## EVALUATING THE PERFORMANCE OF THE NEURAL NETWORK IN THE WHITE TRAINING IMAGES, THE WHITE TESTING IMAGES AND THE NON WHITE IMAGES"
   ],
   "metadata": {}
  },
  {
   "cell_type": "code",
   "execution_count": 14,
   "source": [
    "plt.style.use(\"cyberpunk\")\r\n",
    "\r\n",
    "fig, axes = plt.subplots(1, 3, figsize = (25, 8))\r\n",
    "\r\n",
    "sns.heatmap(ax = axes[0], data = trainMatrix, annot = True, fmt = 'g', cmap = 'Blues')\r\n",
    "sns.heatmap(ax = axes[1], data = testMatrix, annot = True, fmt = 'g', cmap = 'Blues')\r\n",
    "sns.heatmap(ax = axes[2], data = nonWhiteMatrix, annot = True, fmt = 'g', cmap = 'Blues')\r\n",
    "\r\n",
    "axes[0].set_title('CONFUSION MATRIX - WHITE TRAINING', fontsize = 15)\r\n",
    "axes[1].set_title('CONFUSION MATRIX - WHITE TESTING', fontsize = 15)\r\n",
    "axes[2].set_title('CONFUSION MATRIX - NON WHITE', fontsize = 15)\r\n",
    "\r\n",
    "plt.savefig('plots/gender/confusionMatrixes.jpg', format = 'jpg')"
   ],
   "outputs": [
    {
     "output_type": "display_data",
     "data": {
      "image/png": "[encoded data removed]",
      "text/plain": [
       "<Figure size 1800x576 with 6 Axes>"
      ]
     },
     "metadata": {}
    }
   ],
   "metadata": {}
  },
  {
   "cell_type": "markdown",
   "source": [
    "## EXTRACTING THE RESULTS OF THE MODEL IN THE WHITE TEST IMAGES AND THE NON WHITE IMAGES"
   ],
   "metadata": {}
  },
  {
   "cell_type": "code",
   "execution_count": 15,
   "source": [
    "def model_metrics(target, predictions, data):\r\n",
    "\r\n",
    "    accuracy = accuracy_score(target, predictions)\r\n",
    "    precision = precision_score(target, predictions)\r\n",
    "    recall = recall_score(target, predictions)\r\n",
    "    f1 = f1_score(target, predictions)\r\n",
    "\r\n",
    "    return list([data, accuracy, precision, recall, f1])\r\n",
    "\r\n",
    "whiteNonWhiteImagesResults = list()\r\n",
    "whiteNonWhiteImagesResults.append(model_metrics(y_test, testPredictions, 'White images'))\r\n",
    "whiteNonWhiteImagesResults.append(model_metrics(nonWhiteY, nonWhitePredictions, 'Non white images'))\r\n",
    "\r\n",
    "imagesResults = pd.DataFrame(data = whiteNonWhiteImagesResults,\r\n",
    "                             columns = ['Data', 'Accuracy', 'Precision', 'Recall', 'F1'])\r\n",
    "\r\n",
    "formatImagesResults = imagesResults.melt(id_vars = 'Data').rename(columns = str.title)"
   ],
   "outputs": [],
   "metadata": {}
  },
  {
   "cell_type": "markdown",
   "source": [
    "## EVALUATING THE METRICS IN THE WHITE TEST IMAGES AND THE NON WHITE IMAGES"
   ],
   "metadata": {}
  },
  {
   "cell_type": "code",
   "execution_count": 16,
   "source": [
    "fig, axes = plt.subplots(figsize = (20, 8))\r\n",
    "\r\n",
    "plt.title('WHITE IMAGES VS NON WHITE IMAGES METRICS', fontsize = 18)\r\n",
    "sns.barplot(x = 'Data', y = 'Value', hue = 'Variable', data = formatImagesResults)\r\n",
    "\r\n",
    "for patch in axes.patches:\r\n",
    "    axes.annotate(format(patch.get_height(), '.2f'), (patch.get_x() + patch.get_width() / 2., patch.get_height()), \r\n",
    "                 ha = 'center', va = 'center', xytext = (0, 10), textcoords = 'offset points')\r\n",
    "\r\n",
    "mplcyberpunk.add_glow_effects()\r\n",
    "\r\n",
    "plt.savefig('plots/gender/metricsWhiteNonWhite.jpg', format = 'jpg')"
   ],
   "outputs": [
    {
     "output_type": "display_data",
     "data": {
      "image/png": "[encoded data removed]",
      "text/plain": [
       "<Figure size 1440x576 with 1 Axes>"
      ]
     },
     "metadata": {}
    }
   ],
   "metadata": {}
  },
  {
   "cell_type": "markdown",
   "source": [
    "## EXPORTING THE NEURAL NETWORK USING THE PICKLE LIBRARY"
   ],
   "metadata": {}
  },
  {
   "cell_type": "code",
   "execution_count": 17,
   "source": [
    "genderClassifier.save(\"../models/gender.h5\")"
   ],
   "outputs": [],
   "metadata": {}
  }
 ],
 "metadata": {
  "orig_nbformat": 4,
  "language_info": {
   "name": "python",
   "version": "3.9.7",
   "mimetype": "text/x-python",
   "codemirror_mode": {
    "name": "ipython",
    "version": 3
   },
   "pygments_lexer": "ipython3",
   "nbconvert_exporter": "python",
   "file_extension": ".py"
  },
  "kernelspec": {
   "name": "python3",
   "display_name": "Python 3.9.7 64-bit ('env': venv)"
  },
  "interpreter": {
   "hash": "349ec2ade89aee60c3e53de8965ee4c718834e5923df1877d1daea78ab99660b"
  }
 },
 "nbformat": 4,
 "nbformat_minor": 2
}