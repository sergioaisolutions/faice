{
 "cells": [
  {
   "cell_type": "markdown",
   "source": [
    "## IMPORTING THE REQUIRED LIBRARIES"
   ],
   "metadata": {}
  },
  {
   "cell_type": "code",
   "execution_count": 1,
   "source": [
    "import pandas as pd ; import numpy as np\r\n",
    "from sklearn.preprocessing import LabelEncoder\r\n",
    "from sklearn.model_selection import train_test_split\r\n",
    "from tensorflow.keras.layers import Dense, Conv2D, Flatten, MaxPool2D, BatchNormalization\r\n",
    "from tensorflow.keras.callbacks import EarlyStopping, LearningRateScheduler, ReduceLROnPlateau\r\n",
    "from sklearn.metrics import classification_report, confusion_matrix\r\n",
    "from tensorflow.keras.optimizers import SGD, RMSprop\r\n",
    "from tensorflow.keras.models import Sequential"
   ],
   "outputs": [],
   "metadata": {}
  },
  {
   "cell_type": "markdown",
   "source": [
    "## DISABLING THE SETTING WITH COPY WARNING"
   ],
   "metadata": {}
  },
  {
   "cell_type": "code",
   "execution_count": 2,
   "source": [
    "pd.options.mode.chained_assignment = None"
   ],
   "outputs": [],
   "metadata": {}
  },
  {
   "cell_type": "markdown",
   "source": [
    "## IMPORTING DATA"
   ],
   "metadata": {}
  },
  {
   "cell_type": "code",
   "execution_count": 3,
   "source": [
    "def importData(path: str) -> pd.DataFrame:\r\n",
    "    return pd.read_csv(path)\r\n",
    "\r\n",
    "faces = importData('../preprocessing/data/facesDataClean.csv')"
   ],
   "outputs": [],
   "metadata": {}
  },
  {
   "cell_type": "markdown",
   "source": [
    "## ENCODING THE GENDER COLUMN INTO ZEROS AND ONES"
   ],
   "metadata": {}
  },
  {
   "cell_type": "code",
   "execution_count": 4,
   "source": [
    "def encodingTarget(dataframe: pd.DataFrame, target: str) -> (pd.DataFrame, LabelEncoder):\r\n",
    "    \r\n",
    "    encoder = LabelEncoder().fit(dataframe[target])\r\n",
    "    dataframe[target] = encoder.transform(dataframe[target])\r\n",
    "\r\n",
    "    return dataframe, encoder\r\n",
    "\r\n",
    "faces, genderEncoder = encodingTarget(faces, 'gender')"
   ],
   "outputs": [],
   "metadata": {}
  },
  {
   "cell_type": "markdown",
   "source": [
    "## GETTING ONLY THE DATA OF THE PEOPLE THAT IS FROM THE WHITE ETHNICITY"
   ],
   "metadata": {}
  },
  {
   "cell_type": "code",
   "execution_count": 5,
   "source": [
    "facesWhite = faces[faces['ethnicity'] == 'White']"
   ],
   "outputs": [],
   "metadata": {}
  },
  {
   "cell_type": "markdown",
   "source": [
    "## PREPARING THE PIXELS COLUMN FOR THE NEURAL NETWORK"
   ],
   "metadata": {}
  },
  {
   "cell_type": "code",
   "execution_count": 6,
   "source": [
    "def formatPixels(pixels: str) -> np.array:\r\n",
    "\r\n",
    "    pixelsArray = np.array(pixels.split(), 'float64')\r\n",
    "    pixelsArrayReshaped = np.reshape(pixelsArray, (48, 48))\r\n",
    "    pixelsNormalized = pixelsArrayReshaped / 255.0\r\n",
    "\r\n",
    "    return pixelsNormalized\r\n",
    "\r\n",
    "facesWhite['pixels'] = facesWhite['pixels'].apply(formatPixels)"
   ],
   "outputs": [],
   "metadata": {}
  },
  {
   "cell_type": "markdown",
   "source": [
    "## PERFORMING THE X-Y TRAIN-TEST SPLIT"
   ],
   "metadata": {}
  },
  {
   "cell_type": "code",
   "execution_count": 7,
   "source": [
    "def split(dataframe, pixels, gender):\r\n",
    "\r\n",
    "    X = dataframe[pixels]\r\n",
    "    y = dataframe[gender]\r\n",
    "\r\n",
    "    X_train, X_test, y_train, y_test = train_test_split(X, y, test_size = 0.20, random_state = 42)\r\n",
    "\r\n",
    "    return X_train, X_test, y_train, y_test\r\n",
    "\r\n",
    "X_train, X_test, y_train, y_test = split(facesWhite, 'pixels', 'gender')"
   ],
   "outputs": [],
   "metadata": {}
  },
  {
   "cell_type": "markdown",
   "source": [
    "## PERFORMING THE FINAL RESHAPE IN THE TRAINING AND THE TESTING DATA"
   ],
   "metadata": {}
  },
  {
   "cell_type": "code",
   "execution_count": 8,
   "source": [
    "X_train = np.reshape(X_train.to_list(), (len(X_train), 48, 48, 1)) / 255.0\r\n",
    "X_test = np.reshape(X_test.to_list(), (len(X_test), 48, 48, 1)) / 255.0"
   ],
   "outputs": [],
   "metadata": {}
  },
  {
   "cell_type": "markdown",
   "source": [
    "## DEFINING AND COMPILING THE STRUCTURE OF THE NEURAL NETWORK"
   ],
   "metadata": {}
  },
  {
   "cell_type": "code",
   "execution_count": 9,
   "source": [
    "def neuralNetwork():\r\n",
    "\r\n",
    "    model = Sequential()\r\n",
    "    model.add(Conv2D(256, (3, 3), activation = 'relu', padding = 'same', input_shape = (48, 48, 1)))\r\n",
    "    model.add(MaxPool2D(2, 2))\r\n",
    "    model.add(BatchNormalization())\r\n",
    "    model.add(Conv2D(64, (3, 3), activation = 'relu', padding = 'same'))\r\n",
    "    model.add(MaxPool2D(2, 2))\r\n",
    "    model.add(BatchNormalization())\r\n",
    "    model.add(Conv2D(32, (3, 3), activation = 'relu', padding = 'same'))\r\n",
    "    model.add(MaxPool2D(2, 2))\r\n",
    "    model.add(BatchNormalization())\r\n",
    "    model.add(Flatten())\r\n",
    "    model.add(Dense(512, activation = 'relu'))\r\n",
    "    model.add(Dense(64, activation = 'relu'))\r\n",
    "    model.add(Dense(1, activation = 'sigmoid'))\r\n",
    "\r\n",
    "    model.compile(optimizer = SGD(0.01), loss = 'binary_crossentropy', metrics = ['accuracy'])\r\n",
    "\r\n",
    "    return model\r\n",
    "\r\n",
    "genderClassifier = neuralNetwork()"
   ],
   "outputs": [],
   "metadata": {}
  },
  {
   "cell_type": "markdown",
   "source": [
    "## DEFINING THE VALUES FOR THE EARLY STOPPING AND THE LR AIMING TO REDUCE THE OVERFITTING"
   ],
   "metadata": {}
  },
  {
   "cell_type": "code",
   "execution_count": 10,
   "source": [
    "earlyStop = EarlyStopping(monitor = 'val_accuracy', patience = 3)\r\n",
    "reduceLR = ReduceLROnPlateau(monitor = 'val_accuracy', patience = 1, min_lr = 0.000001)"
   ],
   "outputs": [],
   "metadata": {}
  },
  {
   "cell_type": "markdown",
   "source": [
    "## TRAINING THE NEURAL NETWORK AND DISPLAYING THE PROCESS"
   ],
   "metadata": {}
  },
  {
   "cell_type": "code",
   "execution_count": 11,
   "source": [
    "genderClassifierFit = genderClassifier.fit(X_train, y_train, validation_data = (X_test, y_test),\r\n",
    "                                           epochs = 50, callbacks = [reduceLR, earlyStop], verbose = 0)"
   ],
   "outputs": [
    {
     "output_type": "stream",
     "name": "stdout",
     "text": [
      "Epoch 1/50\n",
      "252/252 [==============================] - 49s 195ms/step - loss: 0.5130 - accuracy: 0.7425 - val_loss: 0.6907 - val_accuracy: 0.5367\n",
      "Epoch 2/50\n",
      "252/252 [==============================] - 49s 193ms/step - loss: 0.3764 - accuracy: 0.8316 - val_loss: 0.8206 - val_accuracy: 0.5367\n",
      "Epoch 3/50\n",
      "252/252 [==============================] - 49s 195ms/step - loss: 0.3007 - accuracy: 0.8776 - val_loss: 0.5439 - val_accuracy: 0.7103\n",
      "Epoch 4/50\n",
      "252/252 [==============================] - 49s 194ms/step - loss: 0.2896 - accuracy: 0.8819 - val_loss: 0.3496 - val_accuracy: 0.8393\n",
      "Epoch 5/50\n",
      "252/252 [==============================] - 49s 195ms/step - loss: 0.2813 - accuracy: 0.8853 - val_loss: 0.3503 - val_accuracy: 0.8423\n",
      "Epoch 6/50\n",
      "252/252 [==============================] - 49s 196ms/step - loss: 0.2747 - accuracy: 0.8874 - val_loss: 0.3369 - val_accuracy: 0.8487\n",
      "Epoch 7/50\n",
      "252/252 [==============================] - 49s 195ms/step - loss: 0.2684 - accuracy: 0.8913 - val_loss: 0.3324 - val_accuracy: 0.8477\n",
      "Epoch 8/50\n",
      "252/252 [==============================] - 49s 195ms/step - loss: 0.2599 - accuracy: 0.8970 - val_loss: 0.3281 - val_accuracy: 0.8507\n",
      "Epoch 9/50\n",
      "252/252 [==============================] - 49s 196ms/step - loss: 0.2597 - accuracy: 0.8983 - val_loss: 0.3279 - val_accuracy: 0.8522\n",
      "Epoch 10/50\n",
      "252/252 [==============================] - 50s 197ms/step - loss: 0.2583 - accuracy: 0.8982 - val_loss: 0.3279 - val_accuracy: 0.8527\n",
      "Epoch 11/50\n",
      "252/252 [==============================] - 49s 196ms/step - loss: 0.2581 - accuracy: 0.8974 - val_loss: 0.3276 - val_accuracy: 0.8532\n",
      "Epoch 12/50\n",
      "252/252 [==============================] - 49s 196ms/step - loss: 0.2568 - accuracy: 0.8992 - val_loss: 0.3281 - val_accuracy: 0.8537\n",
      "Epoch 13/50\n",
      "252/252 [==============================] - 49s 196ms/step - loss: 0.2567 - accuracy: 0.8982 - val_loss: 0.3268 - val_accuracy: 0.8537\n",
      "Epoch 14/50\n",
      "252/252 [==============================] - 50s 198ms/step - loss: 0.2555 - accuracy: 0.8994 - val_loss: 0.3267 - val_accuracy: 0.8537\n",
      "Epoch 15/50\n",
      "252/252 [==============================] - 48s 189ms/step - loss: 0.2555 - accuracy: 0.9005 - val_loss: 0.3266 - val_accuracy: 0.8542\n",
      "Epoch 16/50\n",
      "252/252 [==============================] - 47s 188ms/step - loss: 0.2552 - accuracy: 0.8990 - val_loss: 0.3266 - val_accuracy: 0.8542\n",
      "Epoch 17/50\n",
      "252/252 [==============================] - 47s 187ms/step - loss: 0.2556 - accuracy: 0.9004 - val_loss: 0.3266 - val_accuracy: 0.8532\n",
      "Epoch 18/50\n",
      "252/252 [==============================] - 47s 188ms/step - loss: 0.2560 - accuracy: 0.8992 - val_loss: 0.3266 - val_accuracy: 0.8542\n"
     ]
    }
   ],
   "metadata": {}
  }
 ],
 "metadata": {
  "orig_nbformat": 4,
  "language_info": {
   "name": "python",
   "version": "3.9.7",
   "mimetype": "text/x-python",
   "codemirror_mode": {
    "name": "ipython",
    "version": 3
   },
   "pygments_lexer": "ipython3",
   "nbconvert_exporter": "python",
   "file_extension": ".py"
  },
  "kernelspec": {
   "name": "python3",
   "display_name": "Python 3.9.7 64-bit ('env': venv)"
  },
  "interpreter": {
   "hash": "349ec2ade89aee60c3e53de8965ee4c718834e5923df1877d1daea78ab99660b"
  }
 },
 "nbformat": 4,
 "nbformat_minor": 2
}