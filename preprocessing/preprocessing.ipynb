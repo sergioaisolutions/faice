{
 "cells": [
  {
   "cell_type": "markdown",
   "source": [
    "## IMPORTING THE REQUIRED LIBRARIES"
   ],
   "metadata": {}
  },
  {
   "cell_type": "code",
   "execution_count": 1,
   "source": [
    "import numpy as np\r\n",
    "import pandas as pd"
   ],
   "outputs": [],
   "metadata": {}
  },
  {
   "cell_type": "markdown",
   "source": [
    "## IMPORTING THE DATAFRAME OF THE FACES IMAGES"
   ],
   "metadata": {}
  },
  {
   "cell_type": "code",
   "execution_count": 2,
   "source": [
    "def importData(path: str) -> pd.DataFrame:\r\n",
    "    return pd.read_csv(path)\r\n",
    "\r\n",
    "faces = importData('../data/facesData.csv')"
   ],
   "outputs": [],
   "metadata": {}
  },
  {
   "cell_type": "markdown",
   "source": [
    "## DEFINING THE COLUMNS ORDER OF THE DATAFRAME"
   ],
   "metadata": {}
  },
  {
   "cell_type": "code",
   "execution_count": 3,
   "source": [
    "def orderColumns(dataframe: pd.DataFrame, order: list) -> pd.DataFrame:\r\n",
    "    return dataframe[order]\r\n",
    "\r\n",
    "columnsOrder = list(['img_name', 'pixels', 'age', 'gender', 'ethnicity'])\r\n",
    "faces = orderColumns(faces, columnsOrder)"
   ],
   "outputs": [],
   "metadata": {}
  },
  {
   "cell_type": "markdown",
   "source": [
    "## BINNING THE AGE COLUMNS INTO AGE RANGES"
   ],
   "metadata": {}
  },
  {
   "cell_type": "code",
   "execution_count": 4,
   "source": [
    "def cutAge(dataframe: pd.DataFrame, age: str) -> pd.Categorical:\r\n",
    "\r\n",
    "    bins = [0, 18, 35, 60, 120]\r\n",
    "    labels = ['1-18', '19-35', '36-60', '+60']\r\n",
    "    ageBins = pd.cut(dataframe[age], bins = bins , labels = labels)\r\n",
    "    \r\n",
    "    return ageBins\r\n",
    "\r\n",
    "faces['age_bin'] = cutAge(faces, 'age')"
   ],
   "outputs": [],
   "metadata": {}
  },
  {
   "cell_type": "markdown",
   "source": [
    "## EXPORTING THE PREPROCESSED DATA"
   ],
   "metadata": {}
  },
  {
   "cell_type": "code",
   "execution_count": 5,
   "source": [
    "faces.to_csv('data/facesDataClean.csv', index = False)"
   ],
   "outputs": [],
   "metadata": {}
  }
 ],
 "metadata": {
  "orig_nbformat": 4,
  "language_info": {
   "name": "python",
   "version": "3.9.7",
   "mimetype": "text/x-python",
   "codemirror_mode": {
    "name": "ipython",
    "version": 3
   },
   "pygments_lexer": "ipython3",
   "nbconvert_exporter": "python",
   "file_extension": ".py"
  },
  "kernelspec": {
   "name": "python3",
   "display_name": "Python 3.9.7 64-bit ('env': venv)"
  },
  "interpreter": {
   "hash": "349ec2ade89aee60c3e53de8965ee4c718834e5923df1877d1daea78ab99660b"
  }
 },
 "nbformat": 4,
 "nbformat_minor": 2
}