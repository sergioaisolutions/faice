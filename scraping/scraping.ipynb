{
 "cells": [
  {
   "cell_type": "markdown",
   "metadata": {},
   "source": [
    "## IMPORTING THE REQUIRED LIBRARIES"
   ]
  },
  {
   "cell_type": "code",
   "execution_count": 1,
   "metadata": {},
   "outputs": [],
   "source": [
    "import requests\n",
    "from time import sleep\n",
    "from tqdm import tqdm"
   ]
  },
  {
   "cell_type": "markdown",
   "metadata": {},
   "source": [
    "## SCRAPING THE IMAGES"
   ]
  },
  {
   "cell_type": "code",
   "execution_count": 2,
   "metadata": {},
   "outputs": [
    {
     "name": "stdout",
     "output_type": "stream",
     "text": [
      "\n",
      "SCRAPING IMAGES...\n"
     ]
    },
    {
     "name": "stderr",
     "output_type": "stream",
     "text": [
      "100%|██████████| 2/2 [00:10<00:00,  5.37s/it]\n"
     ]
    }
   ],
   "source": [
    "def scrapeImages(iterations):\n",
    "\n",
    "    print('\\nSCRAPING IMAGES...')\n",
    "\n",
    "    for iteration in tqdm(range(iterations)):\n",
    "\n",
    "        response = requests.get('https://thispersondoesnotexist.com/image')\n",
    "        image = open(f'randomImages/random_{iteration}.jpg', 'wb')\n",
    "        image.write(response.content)\n",
    "        image.close()\n",
    "        sleep(5)\n",
    "\n",
    "    return None\n",
    "\n",
    "scrapeImages(int(input('HOW MANY IMAGES DO YOU WANT TO SCRAPE?')))"
   ]
  }
 ],
 "metadata": {
  "interpreter": {
   "hash": "349ec2ade89aee60c3e53de8965ee4c718834e5923df1877d1daea78ab99660b"
  },
  "kernelspec": {
   "display_name": "Python 3.9.7 64-bit ('env': venv)",
   "name": "python3"
  },
  "language_info": {
   "codemirror_mode": {
    "name": "ipython",
    "version": 3
   },
   "file_extension": ".py",
   "mimetype": "text/x-python",
   "name": "python",
   "nbconvert_exporter": "python",
   "pygments_lexer": "ipython3",
   "version": "3.9.7"
  },
  "orig_nbformat": 4
 },
 "nbformat": 4,
 "nbformat_minor": 2
}
