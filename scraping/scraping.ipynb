{
 "cells": [
  {
   "cell_type": "markdown",
   "source": [
    "## IMPORTING THE REQUIRED LIBRARIES"
   ],
   "metadata": {}
  },
  {
   "cell_type": "code",
   "execution_count": 1,
   "source": [
    "import requests\r\n",
    "from time import sleep\r\n",
    "from tqdm import tqdm"
   ],
   "outputs": [],
   "metadata": {}
  },
  {
   "cell_type": "markdown",
   "source": [
    "## SCRAPING THE IMAGES"
   ],
   "metadata": {}
  },
  {
   "cell_type": "code",
   "execution_count": 2,
   "source": [
    "def scrapeImages(iterations):\r\n",
    "\r\n",
    "    print('\\nSCRAPING IMAGES...')\r\n",
    "\r\n",
    "    for iteration in tqdm(range(iterations)):\r\n",
    "\r\n",
    "        response = requests.get('https://thispersondoesnotexist.com/image')\r\n",
    "        image = open(f'randomImages/random_{iteration}.jpg', 'wb')\r\n",
    "        image.write(response.content)\r\n",
    "        image.close()\r\n",
    "        sleep(5)\r\n",
    "\r\n",
    "    return None\r\n",
    "\r\n",
    "scrapeImages(int(input('HOW MANY IMAGES DO YOU WANT TO SCRAPE?')))"
   ],
   "outputs": [
    {
     "output_type": "stream",
     "name": "stdout",
     "text": [
      "\n",
      "SCRAPING IMAGES...\n"
     ]
    },
    {
     "output_type": "stream",
     "name": "stderr",
     "text": [
      "100%|██████████| 5/5 [00:25<00:00,  5.20s/it]\n"
     ]
    }
   ],
   "metadata": {}
  }
 ],
 "metadata": {
  "orig_nbformat": 4,
  "language_info": {
   "name": "python",
   "version": "3.9.7",
   "mimetype": "text/x-python",
   "codemirror_mode": {
    "name": "ipython",
    "version": 3
   },
   "pygments_lexer": "ipython3",
   "nbconvert_exporter": "python",
   "file_extension": ".py"
  },
  "kernelspec": {
   "name": "python3",
   "display_name": "Python 3.9.7 64-bit ('env': venv)"
  },
  "interpreter": {
   "hash": "349ec2ade89aee60c3e53de8965ee4c718834e5923df1877d1daea78ab99660b"
  }
 },
 "nbformat": 4,
 "nbformat_minor": 2
}